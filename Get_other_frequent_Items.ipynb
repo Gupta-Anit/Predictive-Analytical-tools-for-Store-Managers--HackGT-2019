{
 "cells": [
  {
   "cell_type": "code",
   "execution_count": 103,
   "metadata": {
    "scrolled": true
   },
   "outputs": [],
   "source": [
    "import pandas as pd\n",
    "df = pd.read_excel('Online Retail.xlsx')\n",
    "\n",
    "df['Description'] = df['Description'].str.strip()\n",
    "df.dropna(axis=0, subset=['InvoiceNo'], inplace=True)\n",
    "df['InvoiceNo'] = df['InvoiceNo'].astype('str')\n",
    "df = df[~df['InvoiceNo'].str.contains('C')]\n",
    "\n",
    "basket = (df[df['Country'] ==\"United Kingdom\"]\n",
    "          .groupby(['InvoiceNo', 'Description'])['Quantity']\n",
    "          .sum().unstack().reset_index().fillna(0)\n",
    "          .set_index('InvoiceNo'))\n",
    "\n",
    "def encode_units(x):\n",
    "    if x <= 0:\n",
    "        return 0\n",
    "    if x >= 1:\n",
    "        return 1\n",
    "\n",
    "basket_sets = basket.applymap(encode_units)\n",
    "basket_sets.drop('POSTAGE', inplace=True, axis=1)\n",
    "from mlxtend.frequent_patterns import apriori\n",
    "from mlxtend.frequent_patterns import association_rules\n",
    "\n",
    "frequent_itemsets = apriori(basket_sets, min_support=0.015, use_colnames=True)\n",
    "rules = association_rules(frequent_itemsets, metric=\"lift\", min_threshold=1)\n",
    "rules[\"antecedents\"] = rules[\"antecedents\"].apply(lambda x: list(x)[0]).astype(\"unicode\")\n",
    "rules[\"consequents\"] = rules[\"consequents\"].apply(lambda x: list(x)[0]).astype(\"unicode\")\n",
    "\n"
   ]
  },
  {
   "cell_type": "code",
   "execution_count": 124,
   "metadata": {},
   "outputs": [
    {
     "name": "stdout",
     "output_type": "stream",
     "text": [
      "JUMBO BAG PINK POLKADOT\n",
      "44.66\n"
     ]
    }
   ],
   "source": [
    "def other_frequently_bought_item(item):\n",
    "    print(rules.loc[rules['antecedents'] == item, 'consequents'].iloc[0])\n",
    "    print((rules.loc[rules['antecedents'] == item, 'confidence'].iloc[0]*100).round(2))\n",
    "\n",
    "other_frequently_bought_item(\"JUMBO BAG PINK VINTAGE PAISLEY\")\n",
    "   "
   ]
  },
  {
   "cell_type": "code",
   "execution_count": null,
   "metadata": {},
   "outputs": [],
   "source": []
  }
 ],
 "metadata": {
  "kernelspec": {
   "display_name": "Python 3",
   "language": "python",
   "name": "python3"
  },
  "language_info": {
   "codemirror_mode": {
    "name": "ipython",
    "version": 3
   },
   "file_extension": ".py",
   "mimetype": "text/x-python",
   "name": "python",
   "nbconvert_exporter": "python",
   "pygments_lexer": "ipython3",
   "version": "3.7.3"
  }
 },
 "nbformat": 4,
 "nbformat_minor": 2
}
